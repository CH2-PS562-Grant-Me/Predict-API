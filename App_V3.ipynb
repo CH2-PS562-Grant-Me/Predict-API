{
  "cells": [
    {
      "cell_type": "markdown",
      "id": "a10bc2ee",
      "metadata": {
        "id": "a10bc2ee"
      },
      "source": [
        "# API FOR RECOMMENDATION SYSTEM : Grant Me APP\n",
        "**Final Version**\n",
        "\n"
      ]
    },
    {
      "cell_type": "markdown",
      "metadata": {},
      "source": [
        "Import *Library*"
      ]
    },
    {
      "cell_type": "code",
      "execution_count": null,
      "id": "d43abc49",
      "metadata": {
        "id": "d43abc49",
        "tags": [
          "graded"
        ]
      },
      "outputs": [],
      "source": [
        "from flask import Flask, request, jsonify\n",
        "from keras.models import load_model\n",
        "import numpy as np\n",
        "from sklearn.cluster import KMeans\n",
        "from sklearn.preprocessing import StandardScaler\n",
        "import mysql.connector\n",
        "app = Flask(__name__)\n",
        "\n",
        "# Load model\n",
        "model = load_model('model_V2.h5')"
      ]
    },
    {
      "cell_type": "markdown",
      "id": "f100fd5d",
      "metadata": {},
      "source": [
        "**CONNECT THE DATABASE**"
      ]
    },
    {
      "cell_type": "code",
      "execution_count": null,
      "id": "1b7d9d76",
      "metadata": {},
      "outputs": [],
      "source": [
        "db = mysql.connector.connect(\n",
        "    host=\"34.101.114.119\",\n",
        "    user=\"root\",\n",
        "    passwd=\"9MpDdM).}ev||3D.\",\n",
        "    database=\"grant_me\",\n",
        ")"
      ]
    },
    {
      "cell_type": "markdown",
      "id": "2150e17b",
      "metadata": {},
      "source": [
        "**CREATE FUNCTION TO GET THE SCHOLARSHIPS**"
      ]
    },
    {
      "cell_type": "code",
      "execution_count": null,
      "id": "fb0b55e9",
      "metadata": {},
      "outputs": [],
      "source": [
        "def get_scholarships(jenis_beasiswa):\n",
        "    cursor = db.cursor()\n",
        "    sql = \"SELECT * FROM Scholarships WHERE jenis_beasiswa = %s\"\n",
        "    cursor.execute(sql, (jenis_beasiswa,))\n",
        "    row_headers = [x[0] for x in cursor.description]\n",
        "    results = cursor.fetchall()\n",
        "    json_data = []\n",
        "    for result in results:\n",
        "        json_data.append(dict(zip(row_headers, result)))\n",
        "\n",
        "    return json_data\n"
      ]
    },
    {
      "cell_type": "markdown",
      "metadata": {},
      "source": [
        "**MAKE THE MODEL**"
      ]
    },
    {
      "cell_type": "code",
      "execution_count": null,
      "metadata": {},
      "outputs": [],
      "source": [
        "@app.route('/predict', methods=['POST'])\n",
        "def predict():\n",
        "    try:\n",
        "        # Ambil data input dari request\n",
        "        data = request.get_json(force=True)\n",
        "        input_data = np.array([[\n",
        "            data['IPK'],\n",
        "            data['Sertifikasi'],\n",
        "            data['SertifikasiProfesional'],\n",
        "            data['prestasiNasional'],\n",
        "            data['lombaNasional'],\n",
        "            data['prestasiInternasional'],\n",
        "            data['lombaInternasional'],\n",
        "            data['internMagang'],\n",
        "            data['Kepanitiaan']\n",
        "        ]])\n",
        "        prediction = model.predict(input_data)\n",
        "\n",
        "        # Convert float32 values to Python floats\n",
        "        prediction = prediction.astype(float)\n",
        "        # Ambil nilai tertinggi dari hasil prediksi\n",
        "        max_index = np.argmax(prediction)\n",
        "        max_value = prediction[0, max_index].item()\n",
        "\n",
        "    \n",
        "        # Menentukan cluster berdasarkan max_value\n",
        "        clusters = [\"Pemerintah\", \"Swasta\", \"Organisasi\", \"Prestasi\", \"Bantuan\"]\n",
        "        cluster = clusters[max_index]\n",
        "        hasil = get_scholarships(cluster)\n",
        "        \n",
        "        if prediction is not None:\n",
        "            return jsonify({\n",
        "                'statusCode': 200,\n",
        "                'message': 'Success Predicting',\n",
        "                'Persentase Akurasi': max_value,\n",
        "                'Tag Beasiswa': cluster,\n",
        "                'output': hasil\n",
        "            }), 200\n",
        "        else:\n",
        "            return jsonify({\n",
        "                'statusCode': 500,\n",
        "                'message': 'Failed Predicting',\n",
        "                'output': {}\n",
        "            }), 500\n",
        "        \n",
        "        \n",
        "\n",
        "    except Exception as e:\n",
        "        return jsonify({'error': str(e)})"
      ]
    },
    {
      "cell_type": "code",
      "execution_count": null,
      "metadata": {},
      "outputs": [],
      "source": [
        "if __name__ == '__main__':\n",
        "    app.run(port=5000)"
      ]
    }
  ],
  "metadata": {
    "accelerator": "GPU",
    "colab": {
      "provenance": []
    },
    "kernelspec": {
      "display_name": "Python 3",
      "language": "python",
      "name": "python3"
    },
    "language_info": {
      "codemirror_mode": {
        "name": "ipython",
        "version": 3
      },
      "file_extension": ".py",
      "mimetype": "text/x-python",
      "name": "python",
      "nbconvert_exporter": "python",
      "pygments_lexer": "ipython3",
      "version": "3.9.0"
    }
  },
  "nbformat": 4,
  "nbformat_minor": 5
}
